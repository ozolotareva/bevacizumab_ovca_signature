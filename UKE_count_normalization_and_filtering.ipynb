{
 "cells": [
  {
   "cell_type": "code",
   "execution_count": 2,
   "id": "compound-village",
   "metadata": {
    "scrolled": true
   },
   "outputs": [],
   "source": [
    "library(\"DESeq2\")"
   ]
  },
  {
   "cell_type": "markdown",
   "id": "animated-investment",
   "metadata": {},
   "source": [
    "### RNA-seq: raw counts"
   ]
  },
  {
   "cell_type": "code",
   "execution_count": 4,
   "id": "listed-protocol",
   "metadata": {},
   "outputs": [
    {
     "data": {
      "text/html": [
       "<table class=\"dataframe\">\n",
       "<caption>A data.frame: 3 × 244</caption>\n",
       "<thead>\n",
       "\t<tr><th></th><th scope=col>T0063</th><th scope=col>T0096</th><th scope=col>T0103</th><th scope=col>T0249</th><th scope=col>T0294</th><th scope=col>T0305</th><th scope=col>T0315</th><th scope=col>T0342</th><th scope=col>T0430</th><th scope=col>T0644</th><th scope=col>⋯</th><th scope=col>T6985</th><th scope=col>T6987</th><th scope=col>T6990</th><th scope=col>T6991</th><th scope=col>T6993</th><th scope=col>T6995</th><th scope=col>T6999</th><th scope=col>T7001</th><th scope=col>T7002</th><th scope=col>T7003</th></tr>\n",
       "\t<tr><th></th><th scope=col>&lt;int&gt;</th><th scope=col>&lt;int&gt;</th><th scope=col>&lt;int&gt;</th><th scope=col>&lt;int&gt;</th><th scope=col>&lt;int&gt;</th><th scope=col>&lt;int&gt;</th><th scope=col>&lt;int&gt;</th><th scope=col>&lt;int&gt;</th><th scope=col>&lt;int&gt;</th><th scope=col>&lt;int&gt;</th><th scope=col>⋯</th><th scope=col>&lt;int&gt;</th><th scope=col>&lt;int&gt;</th><th scope=col>&lt;int&gt;</th><th scope=col>&lt;int&gt;</th><th scope=col>&lt;int&gt;</th><th scope=col>&lt;int&gt;</th><th scope=col>&lt;int&gt;</th><th scope=col>&lt;int&gt;</th><th scope=col>&lt;int&gt;</th><th scope=col>&lt;int&gt;</th></tr>\n",
       "</thead>\n",
       "<tbody>\n",
       "\t<tr><th scope=row>ENSG00000000003</th><td>2881</td><td>1061</td><td>1406</td><td>1057</td><td>2628</td><td>714</td><td>1320</td><td>2094</td><td>1651</td><td>1404</td><td>⋯</td><td>592</td><td>707</td><td>509</td><td>492</td><td>669</td><td>825</td><td>442</td><td>280</td><td>1029</td><td>962</td></tr>\n",
       "\t<tr><th scope=row>ENSG00000000005</th><td>   2</td><td>   0</td><td>   0</td><td>  27</td><td>   4</td><td>  5</td><td>   6</td><td>  54</td><td>   9</td><td>   1</td><td>⋯</td><td>  0</td><td>  1</td><td>  0</td><td>  1</td><td> 10</td><td>  1</td><td>  0</td><td>  6</td><td>   3</td><td>  6</td></tr>\n",
       "\t<tr><th scope=row>ENSG00000000419</th><td> 412</td><td> 538</td><td> 473</td><td> 628</td><td> 527</td><td>377</td><td> 728</td><td> 635</td><td> 811</td><td> 280</td><td>⋯</td><td>536</td><td>727</td><td>359</td><td>492</td><td>607</td><td>816</td><td>406</td><td>307</td><td> 747</td><td>731</td></tr>\n",
       "</tbody>\n",
       "</table>\n"
      ],
      "text/latex": [
       "A data.frame: 3 × 244\n",
       "\\begin{tabular}{r|lllllllllllllllllllll}\n",
       "  & T0063 & T0096 & T0103 & T0249 & T0294 & T0305 & T0315 & T0342 & T0430 & T0644 & ⋯ & T6985 & T6987 & T6990 & T6991 & T6993 & T6995 & T6999 & T7001 & T7002 & T7003\\\\\n",
       "  & <int> & <int> & <int> & <int> & <int> & <int> & <int> & <int> & <int> & <int> & ⋯ & <int> & <int> & <int> & <int> & <int> & <int> & <int> & <int> & <int> & <int>\\\\\n",
       "\\hline\n",
       "\tENSG00000000003 & 2881 & 1061 & 1406 & 1057 & 2628 & 714 & 1320 & 2094 & 1651 & 1404 & ⋯ & 592 & 707 & 509 & 492 & 669 & 825 & 442 & 280 & 1029 & 962\\\\\n",
       "\tENSG00000000005 &    2 &    0 &    0 &   27 &    4 &   5 &    6 &   54 &    9 &    1 & ⋯ &   0 &   1 &   0 &   1 &  10 &   1 &   0 &   6 &    3 &   6\\\\\n",
       "\tENSG00000000419 &  412 &  538 &  473 &  628 &  527 & 377 &  728 &  635 &  811 &  280 & ⋯ & 536 & 727 & 359 & 492 & 607 & 816 & 406 & 307 &  747 & 731\\\\\n",
       "\\end{tabular}\n"
      ],
      "text/markdown": [
       "\n",
       "A data.frame: 3 × 244\n",
       "\n",
       "| <!--/--> | T0063 &lt;int&gt; | T0096 &lt;int&gt; | T0103 &lt;int&gt; | T0249 &lt;int&gt; | T0294 &lt;int&gt; | T0305 &lt;int&gt; | T0315 &lt;int&gt; | T0342 &lt;int&gt; | T0430 &lt;int&gt; | T0644 &lt;int&gt; | ⋯ ⋯ | T6985 &lt;int&gt; | T6987 &lt;int&gt; | T6990 &lt;int&gt; | T6991 &lt;int&gt; | T6993 &lt;int&gt; | T6995 &lt;int&gt; | T6999 &lt;int&gt; | T7001 &lt;int&gt; | T7002 &lt;int&gt; | T7003 &lt;int&gt; |\n",
       "|---|---|---|---|---|---|---|---|---|---|---|---|---|---|---|---|---|---|---|---|---|---|\n",
       "| ENSG00000000003 | 2881 | 1061 | 1406 | 1057 | 2628 | 714 | 1320 | 2094 | 1651 | 1404 | ⋯ | 592 | 707 | 509 | 492 | 669 | 825 | 442 | 280 | 1029 | 962 |\n",
       "| ENSG00000000005 |    2 |    0 |    0 |   27 |    4 |   5 |    6 |   54 |    9 |    1 | ⋯ |   0 |   1 |   0 |   1 |  10 |   1 |   0 |   6 |    3 |   6 |\n",
       "| ENSG00000000419 |  412 |  538 |  473 |  628 |  527 | 377 |  728 |  635 |  811 |  280 | ⋯ | 536 | 727 | 359 | 492 | 607 | 816 | 406 | 307 |  747 | 731 |\n",
       "\n"
      ],
      "text/plain": [
       "                T0063 T0096 T0103 T0249 T0294 T0305 T0315 T0342 T0430 T0644 ⋯\n",
       "ENSG00000000003 2881  1061  1406  1057  2628  714   1320  2094  1651  1404  ⋯\n",
       "ENSG00000000005    2     0     0    27     4    5      6    54     9     1  ⋯\n",
       "ENSG00000000419  412   538   473   628   527  377    728   635   811   280  ⋯\n",
       "                T6985 T6987 T6990 T6991 T6993 T6995 T6999 T7001 T7002 T7003\n",
       "ENSG00000000003 592   707   509   492   669   825   442   280   1029  962  \n",
       "ENSG00000000005   0     1     0     1    10     1     0     6      3    6  \n",
       "ENSG00000000419 536   727   359   492   607   816   406   307    747  731  "
      ]
     },
     "metadata": {},
     "output_type": "display_data"
    },
    {
     "data": {
      "text/html": [
       "<style>\n",
       ".list-inline {list-style: none; margin:0; padding: 0}\n",
       ".list-inline>li {display: inline-block}\n",
       ".list-inline>li:not(:last-child)::after {content: \"\\00b7\"; padding: 0 .5ex}\n",
       "</style>\n",
       "<ol class=list-inline><li>58735</li><li>244</li></ol>\n"
      ],
      "text/latex": [
       "\\begin{enumerate*}\n",
       "\\item 58735\n",
       "\\item 244\n",
       "\\end{enumerate*}\n"
      ],
      "text/markdown": [
       "1. 58735\n",
       "2. 244\n",
       "\n",
       "\n"
      ],
      "text/plain": [
       "[1] 58735   244"
      ]
     },
     "metadata": {},
     "output_type": "display_data"
    }
   ],
   "source": [
    "count_data <- read.delim(\"../data/210706_rawcounts.csv.gz\", row.names = 1, sep = \",\")\n",
    "head(count_data,3)\n",
    "dim(count_data)"
   ]
  },
  {
   "cell_type": "markdown",
   "id": "electronic-tyler",
   "metadata": {},
   "source": [
    "### Normalization"
   ]
  },
  {
   "cell_type": "code",
   "execution_count": 5,
   "id": "juvenile-detection",
   "metadata": {},
   "outputs": [],
   "source": [
    "meta <- data.frame(row.names = colnames(count_data))\n",
    "meta[\"sample\"] <-1\n",
    "dds <- DESeqDataSetFromMatrix(countData = count_data,colData = meta, design = ~ 1)"
   ]
  },
  {
   "cell_type": "code",
   "execution_count": 6,
   "id": "incredible-physiology",
   "metadata": {},
   "outputs": [
    {
     "data": {
      "text/html": [
       "<table class=\"dataframe\">\n",
       "<caption>A matrix: 3 × 244 of type dbl</caption>\n",
       "<thead>\n",
       "\t<tr><th></th><th scope=col>T0063</th><th scope=col>T0096</th><th scope=col>T0103</th><th scope=col>T0249</th><th scope=col>T0294</th><th scope=col>T0305</th><th scope=col>T0315</th><th scope=col>T0342</th><th scope=col>T0430</th><th scope=col>T0644</th><th scope=col>⋯</th><th scope=col>T6985</th><th scope=col>T6987</th><th scope=col>T6990</th><th scope=col>T6991</th><th scope=col>T6993</th><th scope=col>T6995</th><th scope=col>T6999</th><th scope=col>T7001</th><th scope=col>T7002</th><th scope=col>T7003</th></tr>\n",
       "</thead>\n",
       "<tbody>\n",
       "\t<tr><th scope=row>ENSG00000000003</th><td>2794.910890</td><td>1037.4077</td><td>1323.1914</td><td>891.8690</td><td>2312.492048</td><td>660.667226</td><td>1233.510248</td><td>1844.00880</td><td>1351.152283</td><td>1638.030191</td><td>⋯</td><td>523.1762</td><td>631.1342941</td><td>537.9177</td><td>467.3740779</td><td>837.57266</td><td>753.8453175</td><td>478.7253</td><td>372.198057</td><td>892.625710</td><td>900.766646</td></tr>\n",
       "\t<tr><th scope=row>ENSG00000000005</th><td>   1.940237</td><td>   0.0000</td><td>   0.0000</td><td> 22.7819</td><td>   3.519775</td><td>  4.626521</td><td>   5.606865</td><td>  47.55324</td><td>   7.365458</td><td>   1.166688</td><td>⋯</td><td>  0.0000</td><td>  0.8926935</td><td>  0.0000</td><td>  0.9499473</td><td> 12.51977</td><td>  0.9137519</td><td>  0.0000</td><td>  7.975673</td><td>  2.602407</td><td>  5.618087</td></tr>\n",
       "\t<tr><th scope=row>ENSG00000000419</th><td> 399.688749</td><td> 526.0371</td><td> 445.1419</td><td>529.8900</td><td> 463.730331</td><td>348.839698</td><td> 680.299591</td><td> 559.19083</td><td> 663.709571</td><td> 326.672688</td><td>⋯</td><td>473.6866</td><td>648.9881638</td><td>379.3958</td><td>467.3740779</td><td>759.95009</td><td>745.6215504</td><td>439.7341</td><td>408.088584</td><td>647.999422</td><td>684.470289</td></tr>\n",
       "</tbody>\n",
       "</table>\n"
      ],
      "text/latex": [
       "A matrix: 3 × 244 of type dbl\n",
       "\\begin{tabular}{r|lllllllllllllllllllll}\n",
       "  & T0063 & T0096 & T0103 & T0249 & T0294 & T0305 & T0315 & T0342 & T0430 & T0644 & ⋯ & T6985 & T6987 & T6990 & T6991 & T6993 & T6995 & T6999 & T7001 & T7002 & T7003\\\\\n",
       "\\hline\n",
       "\tENSG00000000003 & 2794.910890 & 1037.4077 & 1323.1914 & 891.8690 & 2312.492048 & 660.667226 & 1233.510248 & 1844.00880 & 1351.152283 & 1638.030191 & ⋯ & 523.1762 & 631.1342941 & 537.9177 & 467.3740779 & 837.57266 & 753.8453175 & 478.7253 & 372.198057 & 892.625710 & 900.766646\\\\\n",
       "\tENSG00000000005 &    1.940237 &    0.0000 &    0.0000 &  22.7819 &    3.519775 &   4.626521 &    5.606865 &   47.55324 &    7.365458 &    1.166688 & ⋯ &   0.0000 &   0.8926935 &   0.0000 &   0.9499473 &  12.51977 &   0.9137519 &   0.0000 &   7.975673 &   2.602407 &   5.618087\\\\\n",
       "\tENSG00000000419 &  399.688749 &  526.0371 &  445.1419 & 529.8900 &  463.730331 & 348.839698 &  680.299591 &  559.19083 &  663.709571 &  326.672688 & ⋯ & 473.6866 & 648.9881638 & 379.3958 & 467.3740779 & 759.95009 & 745.6215504 & 439.7341 & 408.088584 & 647.999422 & 684.470289\\\\\n",
       "\\end{tabular}\n"
      ],
      "text/markdown": [
       "\n",
       "A matrix: 3 × 244 of type dbl\n",
       "\n",
       "| <!--/--> | T0063 | T0096 | T0103 | T0249 | T0294 | T0305 | T0315 | T0342 | T0430 | T0644 | ⋯ | T6985 | T6987 | T6990 | T6991 | T6993 | T6995 | T6999 | T7001 | T7002 | T7003 |\n",
       "|---|---|---|---|---|---|---|---|---|---|---|---|---|---|---|---|---|---|---|---|---|---|\n",
       "| ENSG00000000003 | 2794.910890 | 1037.4077 | 1323.1914 | 891.8690 | 2312.492048 | 660.667226 | 1233.510248 | 1844.00880 | 1351.152283 | 1638.030191 | ⋯ | 523.1762 | 631.1342941 | 537.9177 | 467.3740779 | 837.57266 | 753.8453175 | 478.7253 | 372.198057 | 892.625710 | 900.766646 |\n",
       "| ENSG00000000005 |    1.940237 |    0.0000 |    0.0000 |  22.7819 |    3.519775 |   4.626521 |    5.606865 |   47.55324 |    7.365458 |    1.166688 | ⋯ |   0.0000 |   0.8926935 |   0.0000 |   0.9499473 |  12.51977 |   0.9137519 |   0.0000 |   7.975673 |   2.602407 |   5.618087 |\n",
       "| ENSG00000000419 |  399.688749 |  526.0371 |  445.1419 | 529.8900 |  463.730331 | 348.839698 |  680.299591 |  559.19083 |  663.709571 |  326.672688 | ⋯ | 473.6866 | 648.9881638 | 379.3958 | 467.3740779 | 759.95009 | 745.6215504 | 439.7341 | 408.088584 | 647.999422 | 684.470289 |\n",
       "\n"
      ],
      "text/plain": [
       "                T0063       T0096     T0103     T0249    T0294       T0305     \n",
       "ENSG00000000003 2794.910890 1037.4077 1323.1914 891.8690 2312.492048 660.667226\n",
       "ENSG00000000005    1.940237    0.0000    0.0000  22.7819    3.519775   4.626521\n",
       "ENSG00000000419  399.688749  526.0371  445.1419 529.8900  463.730331 348.839698\n",
       "                T0315       T0342      T0430       T0644       ⋯ T6985   \n",
       "ENSG00000000003 1233.510248 1844.00880 1351.152283 1638.030191 ⋯ 523.1762\n",
       "ENSG00000000005    5.606865   47.55324    7.365458    1.166688 ⋯   0.0000\n",
       "ENSG00000000419  680.299591  559.19083  663.709571  326.672688 ⋯ 473.6866\n",
       "                T6987       T6990    T6991       T6993     T6995       T6999   \n",
       "ENSG00000000003 631.1342941 537.9177 467.3740779 837.57266 753.8453175 478.7253\n",
       "ENSG00000000005   0.8926935   0.0000   0.9499473  12.51977   0.9137519   0.0000\n",
       "ENSG00000000419 648.9881638 379.3958 467.3740779 759.95009 745.6215504 439.7341\n",
       "                T7001      T7002      T7003     \n",
       "ENSG00000000003 372.198057 892.625710 900.766646\n",
       "ENSG00000000005   7.975673   2.602407   5.618087\n",
       "ENSG00000000419 408.088584 647.999422 684.470289"
      ]
     },
     "metadata": {},
     "output_type": "display_data"
    }
   ],
   "source": [
    "# uses the \"median ratio method\" described in Anders and Huber (2010)\n",
    "dds <- estimateSizeFactors(dds) \n",
    "norm_counts <-  counts(dds, normalized=TRUE)\n",
    "head(norm_counts,3)"
   ]
  },
  {
   "cell_type": "markdown",
   "id": "accepting-painting",
   "metadata": {},
   "source": [
    "### Filtering \n",
    "* keep genes with 15+ norm. counts\n",
    "* in at least 10 samples"
   ]
  },
  {
   "cell_type": "code",
   "execution_count": 7,
   "id": "talented-official",
   "metadata": {},
   "outputs": [
    {
     "name": "stdout",
     "output_type": "stream",
     "text": [
      "passed genes: 23758 \n"
     ]
    },
    {
     "data": {
      "text/html": [
       "<table class=\"dataframe\">\n",
       "<caption>A matrix: 3 × 244 of type dbl</caption>\n",
       "<thead>\n",
       "\t<tr><th></th><th scope=col>T0063</th><th scope=col>T0096</th><th scope=col>T0103</th><th scope=col>T0249</th><th scope=col>T0294</th><th scope=col>T0305</th><th scope=col>T0315</th><th scope=col>T0342</th><th scope=col>T0430</th><th scope=col>T0644</th><th scope=col>⋯</th><th scope=col>T6985</th><th scope=col>T6987</th><th scope=col>T6990</th><th scope=col>T6991</th><th scope=col>T6993</th><th scope=col>T6995</th><th scope=col>T6999</th><th scope=col>T7001</th><th scope=col>T7002</th><th scope=col>T7003</th></tr>\n",
       "</thead>\n",
       "<tbody>\n",
       "\t<tr><th scope=row>ENSG00000000003</th><td>2794.910890</td><td>1037.4077</td><td>1323.1914</td><td>891.8690</td><td>2312.492048</td><td>660.667226</td><td>1233.510248</td><td>1844.00880</td><td>1351.152283</td><td>1638.030191</td><td>⋯</td><td>523.1762</td><td>631.1342941</td><td>537.9177</td><td>467.3740779</td><td>837.57266</td><td>753.8453175</td><td>478.7253</td><td>372.198057</td><td>892.625710</td><td>900.766646</td></tr>\n",
       "\t<tr><th scope=row>ENSG00000000005</th><td>   1.940237</td><td>   0.0000</td><td>   0.0000</td><td> 22.7819</td><td>   3.519775</td><td>  4.626521</td><td>   5.606865</td><td>  47.55324</td><td>   7.365458</td><td>   1.166688</td><td>⋯</td><td>  0.0000</td><td>  0.8926935</td><td>  0.0000</td><td>  0.9499473</td><td> 12.51977</td><td>  0.9137519</td><td>  0.0000</td><td>  7.975673</td><td>  2.602407</td><td>  5.618087</td></tr>\n",
       "\t<tr><th scope=row>ENSG00000000419</th><td> 399.688749</td><td> 526.0371</td><td> 445.1419</td><td>529.8900</td><td> 463.730331</td><td>348.839698</td><td> 680.299591</td><td> 559.19083</td><td> 663.709571</td><td> 326.672688</td><td>⋯</td><td>473.6866</td><td>648.9881638</td><td>379.3958</td><td>467.3740779</td><td>759.95009</td><td>745.6215504</td><td>439.7341</td><td>408.088584</td><td>647.999422</td><td>684.470289</td></tr>\n",
       "</tbody>\n",
       "</table>\n"
      ],
      "text/latex": [
       "A matrix: 3 × 244 of type dbl\n",
       "\\begin{tabular}{r|lllllllllllllllllllll}\n",
       "  & T0063 & T0096 & T0103 & T0249 & T0294 & T0305 & T0315 & T0342 & T0430 & T0644 & ⋯ & T6985 & T6987 & T6990 & T6991 & T6993 & T6995 & T6999 & T7001 & T7002 & T7003\\\\\n",
       "\\hline\n",
       "\tENSG00000000003 & 2794.910890 & 1037.4077 & 1323.1914 & 891.8690 & 2312.492048 & 660.667226 & 1233.510248 & 1844.00880 & 1351.152283 & 1638.030191 & ⋯ & 523.1762 & 631.1342941 & 537.9177 & 467.3740779 & 837.57266 & 753.8453175 & 478.7253 & 372.198057 & 892.625710 & 900.766646\\\\\n",
       "\tENSG00000000005 &    1.940237 &    0.0000 &    0.0000 &  22.7819 &    3.519775 &   4.626521 &    5.606865 &   47.55324 &    7.365458 &    1.166688 & ⋯ &   0.0000 &   0.8926935 &   0.0000 &   0.9499473 &  12.51977 &   0.9137519 &   0.0000 &   7.975673 &   2.602407 &   5.618087\\\\\n",
       "\tENSG00000000419 &  399.688749 &  526.0371 &  445.1419 & 529.8900 &  463.730331 & 348.839698 &  680.299591 &  559.19083 &  663.709571 &  326.672688 & ⋯ & 473.6866 & 648.9881638 & 379.3958 & 467.3740779 & 759.95009 & 745.6215504 & 439.7341 & 408.088584 & 647.999422 & 684.470289\\\\\n",
       "\\end{tabular}\n"
      ],
      "text/markdown": [
       "\n",
       "A matrix: 3 × 244 of type dbl\n",
       "\n",
       "| <!--/--> | T0063 | T0096 | T0103 | T0249 | T0294 | T0305 | T0315 | T0342 | T0430 | T0644 | ⋯ | T6985 | T6987 | T6990 | T6991 | T6993 | T6995 | T6999 | T7001 | T7002 | T7003 |\n",
       "|---|---|---|---|---|---|---|---|---|---|---|---|---|---|---|---|---|---|---|---|---|---|\n",
       "| ENSG00000000003 | 2794.910890 | 1037.4077 | 1323.1914 | 891.8690 | 2312.492048 | 660.667226 | 1233.510248 | 1844.00880 | 1351.152283 | 1638.030191 | ⋯ | 523.1762 | 631.1342941 | 537.9177 | 467.3740779 | 837.57266 | 753.8453175 | 478.7253 | 372.198057 | 892.625710 | 900.766646 |\n",
       "| ENSG00000000005 |    1.940237 |    0.0000 |    0.0000 |  22.7819 |    3.519775 |   4.626521 |    5.606865 |   47.55324 |    7.365458 |    1.166688 | ⋯ |   0.0000 |   0.8926935 |   0.0000 |   0.9499473 |  12.51977 |   0.9137519 |   0.0000 |   7.975673 |   2.602407 |   5.618087 |\n",
       "| ENSG00000000419 |  399.688749 |  526.0371 |  445.1419 | 529.8900 |  463.730331 | 348.839698 |  680.299591 |  559.19083 |  663.709571 |  326.672688 | ⋯ | 473.6866 | 648.9881638 | 379.3958 | 467.3740779 | 759.95009 | 745.6215504 | 439.7341 | 408.088584 | 647.999422 | 684.470289 |\n",
       "\n"
      ],
      "text/plain": [
       "                T0063       T0096     T0103     T0249    T0294       T0305     \n",
       "ENSG00000000003 2794.910890 1037.4077 1323.1914 891.8690 2312.492048 660.667226\n",
       "ENSG00000000005    1.940237    0.0000    0.0000  22.7819    3.519775   4.626521\n",
       "ENSG00000000419  399.688749  526.0371  445.1419 529.8900  463.730331 348.839698\n",
       "                T0315       T0342      T0430       T0644       ⋯ T6985   \n",
       "ENSG00000000003 1233.510248 1844.00880 1351.152283 1638.030191 ⋯ 523.1762\n",
       "ENSG00000000005    5.606865   47.55324    7.365458    1.166688 ⋯   0.0000\n",
       "ENSG00000000419  680.299591  559.19083  663.709571  326.672688 ⋯ 473.6866\n",
       "                T6987       T6990    T6991       T6993     T6995       T6999   \n",
       "ENSG00000000003 631.1342941 537.9177 467.3740779 837.57266 753.8453175 478.7253\n",
       "ENSG00000000005   0.8926935   0.0000   0.9499473  12.51977   0.9137519   0.0000\n",
       "ENSG00000000419 648.9881638 379.3958 467.3740779 759.95009 745.6215504 439.7341\n",
       "                T7001      T7002      T7003     \n",
       "ENSG00000000003 372.198057 892.625710 900.766646\n",
       "ENSG00000000005   7.975673   2.602407   5.618087\n",
       "ENSG00000000419 408.088584 647.999422 684.470289"
      ]
     },
     "metadata": {},
     "output_type": "display_data"
    }
   ],
   "source": [
    "filtering <- function(count_data) {\n",
    "  non_zero <- rowSums(count_data >= 15)\n",
    "  passed_genes <- which(non_zero >= 10)\n",
    "  passed_genes_names <- rownames(count_data)[passed_genes]\n",
    "  cat(\"passed genes:\", length(passed_genes_names), \"\\n\")\n",
    "  count_data <- count_data[passed_genes_names, ]\n",
    "  return(count_data)\n",
    "}\n",
    "\n",
    "norm_filtered <- filtering(norm_counts)\n",
    "rownames(norm_filtered) <- make.names(rownames(norm_filtered), unique = TRUE)\n",
    "norm_filtered <- norm_filtered[order(rownames(norm_filtered)), ]\n",
    "head(norm_filtered, 3)"
   ]
  },
  {
   "cell_type": "code",
   "execution_count": 9,
   "id": "flying-branch",
   "metadata": {},
   "outputs": [
    {
     "data": {
      "text/html": [
       "<table class=\"dataframe\">\n",
       "<caption>A matrix: 3 × 244 of type dbl</caption>\n",
       "<thead>\n",
       "\t<tr><th></th><th scope=col>T0063</th><th scope=col>T0096</th><th scope=col>T0103</th><th scope=col>T0249</th><th scope=col>T0294</th><th scope=col>T0305</th><th scope=col>T0315</th><th scope=col>T0342</th><th scope=col>T0430</th><th scope=col>T0644</th><th scope=col>⋯</th><th scope=col>T6985</th><th scope=col>T6987</th><th scope=col>T6990</th><th scope=col>T6991</th><th scope=col>T6993</th><th scope=col>T6995</th><th scope=col>T6999</th><th scope=col>T7001</th><th scope=col>T7002</th><th scope=col>T7003</th></tr>\n",
       "</thead>\n",
       "<tbody>\n",
       "\t<tr><th scope=row>ENSG00000000003</th><td>11.449103</td><td>10.020157</td><td>10.370896</td><td>9.802305</td><td>11.175856</td><td>9.369962</td><td>10.269723</td><td>10.849412</td><td>10.401042</td><td>10.678627</td><td>⋯</td><td>9.033908</td><td>9.3040873</td><td>9.073921</td><td>8.8715174</td><td>9.711792</td><td>9.5600372</td><td>8.906065</td><td>8.543798</td><td>9.803527</td><td>9.816610</td></tr>\n",
       "\t<tr><th scope=row>ENSG00000000005</th><td> 1.555932</td><td> 0.000000</td><td> 0.000000</td><td>4.571792</td><td> 2.176251</td><td>2.492243</td><td> 2.723966</td><td> 5.601496</td><td> 3.064444</td><td> 1.115492</td><td>⋯</td><td>0.000000</td><td>0.9204408</td><td>0.000000</td><td>0.9634351</td><td>3.756999</td><td>0.9364038</td><td>0.000000</td><td>3.166020</td><td>1.848961</td><td>2.726414</td></tr>\n",
       "\t<tr><th scope=row>ENSG00000000419</th><td> 8.646338</td><td> 9.041761</td><td> 8.801359</td><td>9.052269</td><td> 8.860250</td><td>8.450550</td><td> 9.412146</td><td> 9.129775</td><td> 9.376580</td><td> 8.356112</td><td>⋯</td><td>8.890831</td><td>9.3442696</td><td>8.571358</td><td>8.8715174</td><td>9.571658</td><td>9.5442333</td><td>8.783765</td><td>8.676269</td><td>9.342073</td><td>9.420950</td></tr>\n",
       "</tbody>\n",
       "</table>\n"
      ],
      "text/latex": [
       "A matrix: 3 × 244 of type dbl\n",
       "\\begin{tabular}{r|lllllllllllllllllllll}\n",
       "  & T0063 & T0096 & T0103 & T0249 & T0294 & T0305 & T0315 & T0342 & T0430 & T0644 & ⋯ & T6985 & T6987 & T6990 & T6991 & T6993 & T6995 & T6999 & T7001 & T7002 & T7003\\\\\n",
       "\\hline\n",
       "\tENSG00000000003 & 11.449103 & 10.020157 & 10.370896 & 9.802305 & 11.175856 & 9.369962 & 10.269723 & 10.849412 & 10.401042 & 10.678627 & ⋯ & 9.033908 & 9.3040873 & 9.073921 & 8.8715174 & 9.711792 & 9.5600372 & 8.906065 & 8.543798 & 9.803527 & 9.816610\\\\\n",
       "\tENSG00000000005 &  1.555932 &  0.000000 &  0.000000 & 4.571792 &  2.176251 & 2.492243 &  2.723966 &  5.601496 &  3.064444 &  1.115492 & ⋯ & 0.000000 & 0.9204408 & 0.000000 & 0.9634351 & 3.756999 & 0.9364038 & 0.000000 & 3.166020 & 1.848961 & 2.726414\\\\\n",
       "\tENSG00000000419 &  8.646338 &  9.041761 &  8.801359 & 9.052269 &  8.860250 & 8.450550 &  9.412146 &  9.129775 &  9.376580 &  8.356112 & ⋯ & 8.890831 & 9.3442696 & 8.571358 & 8.8715174 & 9.571658 & 9.5442333 & 8.783765 & 8.676269 & 9.342073 & 9.420950\\\\\n",
       "\\end{tabular}\n"
      ],
      "text/markdown": [
       "\n",
       "A matrix: 3 × 244 of type dbl\n",
       "\n",
       "| <!--/--> | T0063 | T0096 | T0103 | T0249 | T0294 | T0305 | T0315 | T0342 | T0430 | T0644 | ⋯ | T6985 | T6987 | T6990 | T6991 | T6993 | T6995 | T6999 | T7001 | T7002 | T7003 |\n",
       "|---|---|---|---|---|---|---|---|---|---|---|---|---|---|---|---|---|---|---|---|---|---|\n",
       "| ENSG00000000003 | 11.449103 | 10.020157 | 10.370896 | 9.802305 | 11.175856 | 9.369962 | 10.269723 | 10.849412 | 10.401042 | 10.678627 | ⋯ | 9.033908 | 9.3040873 | 9.073921 | 8.8715174 | 9.711792 | 9.5600372 | 8.906065 | 8.543798 | 9.803527 | 9.816610 |\n",
       "| ENSG00000000005 |  1.555932 |  0.000000 |  0.000000 | 4.571792 |  2.176251 | 2.492243 |  2.723966 |  5.601496 |  3.064444 |  1.115492 | ⋯ | 0.000000 | 0.9204408 | 0.000000 | 0.9634351 | 3.756999 | 0.9364038 | 0.000000 | 3.166020 | 1.848961 | 2.726414 |\n",
       "| ENSG00000000419 |  8.646338 |  9.041761 |  8.801359 | 9.052269 |  8.860250 | 8.450550 |  9.412146 |  9.129775 |  9.376580 |  8.356112 | ⋯ | 8.890831 | 9.3442696 | 8.571358 | 8.8715174 | 9.571658 | 9.5442333 | 8.783765 | 8.676269 | 9.342073 | 9.420950 |\n",
       "\n"
      ],
      "text/plain": [
       "                T0063     T0096     T0103     T0249    T0294     T0305   \n",
       "ENSG00000000003 11.449103 10.020157 10.370896 9.802305 11.175856 9.369962\n",
       "ENSG00000000005  1.555932  0.000000  0.000000 4.571792  2.176251 2.492243\n",
       "ENSG00000000419  8.646338  9.041761  8.801359 9.052269  8.860250 8.450550\n",
       "                T0315     T0342     T0430     T0644     ⋯ T6985    T6987    \n",
       "ENSG00000000003 10.269723 10.849412 10.401042 10.678627 ⋯ 9.033908 9.3040873\n",
       "ENSG00000000005  2.723966  5.601496  3.064444  1.115492 ⋯ 0.000000 0.9204408\n",
       "ENSG00000000419  9.412146  9.129775  9.376580  8.356112 ⋯ 8.890831 9.3442696\n",
       "                T6990    T6991     T6993    T6995     T6999    T7001   \n",
       "ENSG00000000003 9.073921 8.8715174 9.711792 9.5600372 8.906065 8.543798\n",
       "ENSG00000000005 0.000000 0.9634351 3.756999 0.9364038 0.000000 3.166020\n",
       "ENSG00000000419 8.571358 8.8715174 9.571658 9.5442333 8.783765 8.676269\n",
       "                T7002    T7003   \n",
       "ENSG00000000003 9.803527 9.816610\n",
       "ENSG00000000005 1.848961 2.726414\n",
       "ENSG00000000419 9.342073 9.420950"
      ]
     },
     "metadata": {},
     "output_type": "display_data"
    }
   ],
   "source": [
    "log_norm_filtered <- log2(norm_filtered+1)\n",
    "# uncomment to save file\n",
    "#write.table(log_norm_filtered, \"../data/UKE244_log2exprs.tsv.gz\", sep = \"\\t\", row.names = TRUE, col.names = NA, quote = FALSE)\n",
    "head(log_norm_filtered, 3)"
   ]
  }
 ],
 "metadata": {
  "kernelspec": {
   "display_name": "R",
   "language": "R",
   "name": "ir"
  },
  "language_info": {
   "codemirror_mode": "r",
   "file_extension": ".r",
   "mimetype": "text/x-r-source",
   "name": "R",
   "pygments_lexer": "r",
   "version": "3.6.1"
  }
 },
 "nbformat": 4,
 "nbformat_minor": 5
}
