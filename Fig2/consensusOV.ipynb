{
 "cells": [
  {
   "cell_type": "code",
   "execution_count": 5,
   "id": "southwest-individual",
   "metadata": {
    "scrolled": true
   },
   "outputs": [
    {
     "name": "stderr",
     "output_type": "stream",
     "text": [
      "Loading required package: survcomp\n",
      "\n",
      "Loading required package: survival\n",
      "\n",
      "Loading required package: prodlim\n",
      "\n",
      "Loading required package: biomaRt\n",
      "\n",
      "Loading required package: iC10\n",
      "\n",
      "Loading required package: pamr\n",
      "\n",
      "Loading required package: impute\n",
      "\n",
      "Loading required package: iC10TrainingData\n",
      "\n",
      "Loading required package: AIMS\n",
      "\n",
      "Loading required package: e1071\n",
      "\n"
     ]
    }
   ],
   "source": [
    "#library(Biobase)\n",
    "#if (!require(\"BiocManager\", quietly = TRUE))\n",
    "#    install.packages(\"BiocManager\")\n",
    "#BiocManager::install(\"genefu\")\n",
    "#library(genefu)\n",
    "#BiocManager::install(\"consensusOV\")\n",
    "library(Biobase)\n",
    "library(genefu)\n",
    "library(consensusOV)"
   ]
  },
  {
   "cell_type": "code",
   "execution_count": 5,
   "id": "impressive-muscle",
   "metadata": {},
   "outputs": [
    {
     "data": {
      "text/html": [
       "<style>\n",
       ".list-inline {list-style: none; margin:0; padding: 0}\n",
       ".list-inline>li {display: inline-block}\n",
       ".list-inline>li:not(:last-child)::after {content: \"\\00b7\"; padding: 0 .5ex}\n",
       "</style>\n",
       "<ol class=list-inline><li>18898</li><li>377</li></ol>\n"
      ],
      "text/latex": [
       "\\begin{enumerate*}\n",
       "\\item 18898\n",
       "\\item 377\n",
       "\\end{enumerate*}\n"
      ],
      "text/markdown": [
       "1. 18898\n",
       "2. 377\n",
       "\n",
       "\n"
      ],
      "text/plain": [
       "[1] 18898   377"
      ]
     },
     "metadata": {},
     "output_type": "display_data"
    }
   ],
   "source": [
    "exprs_file <- \"exprs.tsv\" # expression table with Entrez genes in rows\n",
    "outfile <- \".subtypes.tsv\" # output file\n",
    "\n",
    "data <- read.table(exprs_file,header = T,row.names = 1)\n",
    "dim(data)\n",
    "entrez_gene_ids <- rownames(data)"
   ]
  },
  {
   "cell_type": "code",
   "execution_count": 14,
   "id": "recent-channel",
   "metadata": {},
   "outputs": [
    {
     "name": "stderr",
     "output_type": "stream",
     "text": [
      "Loading training data\n",
      "\n",
      "Training Random Forest...\n",
      "\n",
      "Warning message:\n",
      "“Calling gsva(expr=., gset.idx.list=., method=., ...) is deprecated; use a method-specific parameter object (see '?gsva').”\n"
     ]
    },
    {
     "name": "stdout",
     "output_type": "stream",
     "text": [
      "Setting parallel calculations through a MulticoreParam back-end\n",
      "with workers=4 and tasks=100.\n",
      "Estimating ssGSEA scores for 4 gene sets.\n",
      "[1] \"Calculating ranks...\"\n",
      "[1] \"Calculating absolute values from ranks...\"\n",
      "  |======================================================================| 100%\n",
      "\n"
     ]
    }
   ],
   "source": [
    "s_consensus <- get.subtypes(as.matrix(data),entrez_gene_ids,method= \"consensusOV\")\n",
    "s_verhaak <- get.subtypes(as.matrix(data),entrez_gene_ids,method= \"Verhaak\") \n",
    "s_konecny <- get.subtypes(as.matrix(data),entrez_gene_ids,method= \"Konecny\")\n",
    "s_helland <- get.subtypes(as.matrix(data),entrez_gene_ids,method= \"Helland\") \n",
    "s_bentink <- get.subtypes(as.matrix(data),entrez_gene_ids,method= \"Bentink\")"
   ]
  },
  {
   "cell_type": "code",
   "execution_count": 15,
   "id": "terminal-cooking",
   "metadata": {},
   "outputs": [],
   "source": [
    "subtypes <- cbind(colnames(data),as.character(s_consensus$consensusOV.subtypes),as.character(s_verhaak$Verhaak.subtypes),as.character(s_konecny$Konecny.subtypes),as.character(s_helland$Helland.subtypes),as.character(s_bentink$Bentink.subtypes))\n",
    "colnames(subtypes) <-c(\"sample_id\",\"consensusOV\",\"Verhaak\",\"Konecny\",\"Helland\",\"Bentink\")\n",
    "write.table(subtypes, file = outfile, row.names = F, quote = F,sep=\"\\t\")\n",
    "outfile"
   ]
  },
  {
   "cell_type": "code",
   "execution_count": null,
   "id": "sexual-rolling",
   "metadata": {},
   "outputs": [],
   "source": [
    "#?get.subtypes"
   ]
  },
  {
   "cell_type": "code",
   "execution_count": null,
   "id": "brilliant-board",
   "metadata": {},
   "outputs": [],
   "source": [
    "sessionInfo()"
   ]
  },
  {
   "cell_type": "code",
   "execution_count": null,
   "id": "tracked-dancing",
   "metadata": {},
   "outputs": [],
   "source": []
  }
 ],
 "metadata": {
  "kernelspec": {
   "display_name": "R [conda env:r4_env]",
   "language": "R",
   "name": "conda-env-r4_env-r"
  },
  "language_info": {
   "codemirror_mode": "r",
   "file_extension": ".r",
   "mimetype": "text/x-r-source",
   "name": "R",
   "pygments_lexer": "r",
   "version": "4.3.3"
  }
 },
 "nbformat": 4,
 "nbformat_minor": 5
}
